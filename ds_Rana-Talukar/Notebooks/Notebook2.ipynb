{
  "nbformat": 4,
  "nbformat_minor": 0,
  "metadata": {
    "colab": {
      "provenance": []
    },
    "kernelspec": {
      "name": "python3",
      "display_name": "Python 3"
    },
    "language_info": {
      "name": "python"
    }
  },
  "cells": [
    {
      "cell_type": "code",
      "execution_count": 1,
      "metadata": {
        "colab": {
          "base_uri": "https://localhost:8080/"
        },
        "id": "tSdzun4t9V-Y",
        "outputId": "4eee2e8b-e0c8-4acc-b371-e308ff02a3f3"
      },
      "outputs": [
        {
          "output_type": "stream",
          "name": "stdout",
          "text": [
            "Mounted at /content/drive\n"
          ]
        }
      ],
      "source": [
        "from google.colab import drive\n",
        "drive.mount('/content/drive')"
      ]
    },
    {
      "cell_type": "code",
      "source": [
        "import pandas as pd\n",
        "import numpy as np"
      ],
      "metadata": {
        "id": "fCV1W0lJ9jTe"
      },
      "execution_count": 2,
      "outputs": []
    },
    {
      "cell_type": "code",
      "source": [
        "df = pd.read_csv(\"/content/drive/MyDrive/PrimeTrade/final_dataset.csv\")"
      ],
      "metadata": {
        "id": "UkNkNBsQ9uxH"
      },
      "execution_count": 3,
      "outputs": []
    },
    {
      "cell_type": "code",
      "source": [
        "df['date'] = pd.to_datetime(df['date'])\n",
        "\n",
        "\n",
        "df['Win'] = (df['Closed PnL'] > 0).astype(int)"
      ],
      "metadata": {
        "id": "z-tGgqgT9xfK"
      },
      "execution_count": 4,
      "outputs": []
    },
    {
      "cell_type": "code",
      "source": [
        "features_to_use = ['value', 'Size USD', 'Coin', 'Side', 'Direction']\n",
        "target_variable = 'Win'"
      ],
      "metadata": {
        "id": "MAv0yh1U92bB"
      },
      "execution_count": 5,
      "outputs": []
    },
    {
      "cell_type": "code",
      "source": [
        "X = df[features_to_use]\n",
        "y = df[target_variable]"
      ],
      "metadata": {
        "id": "n_8XVdN198s3"
      },
      "execution_count": 6,
      "outputs": []
    },
    {
      "cell_type": "code",
      "source": [
        "X_encoded = pd.get_dummies(X, columns=['Coin', 'Side', 'Direction'], drop_first=True)"
      ],
      "metadata": {
        "id": "xjqLIfSb9_cM"
      },
      "execution_count": 7,
      "outputs": []
    },
    {
      "cell_type": "code",
      "source": [
        "print(f\"Original number of features: {len(X.columns)}\")\n",
        "print(f\"Number of features after one-hot encoding: {len(X_encoded.columns)}\")"
      ],
      "metadata": {
        "colab": {
          "base_uri": "https://localhost:8080/"
        },
        "id": "ifj10qZx-HPn",
        "outputId": "3e47e698-4fcb-428b-9070-44695130efed"
      },
      "execution_count": 8,
      "outputs": [
        {
          "output_type": "stream",
          "name": "stdout",
          "text": [
            "Original number of features: 5\n",
            "Number of features after one-hot encoding: 180\n"
          ]
        }
      ]
    },
    {
      "cell_type": "code",
      "source": [
        "print(X_encoded.head())"
      ],
      "metadata": {
        "colab": {
          "base_uri": "https://localhost:8080/"
        },
        "id": "R_QifMQ_-LSj",
        "outputId": "80e35cb9-d292-42d1-8ae6-b471864987e0"
      },
      "execution_count": 9,
      "outputs": [
        {
          "output_type": "stream",
          "name": "stdout",
          "text": [
            "   value  Size USD  Coin_@10  Coin_@103  Coin_@107  Coin_@11  Coin_@113  \\\n",
            "0     70   7872.16     False      False       True     False      False   \n",
            "1     70    127.68     False      False       True     False      False   \n",
            "2     70   1150.63     False      False       True     False      False   \n",
            "3     70   1142.04     False      False       True     False      False   \n",
            "4     70     69.75     False      False       True     False      False   \n",
            "\n",
            "   Coin_@13  Coin_@14  Coin_@142  ...  Coin_kSHIB  Side_SELL  \\\n",
            "0     False     False      False  ...       False      False   \n",
            "1     False     False      False  ...       False      False   \n",
            "2     False     False      False  ...       False      False   \n",
            "3     False     False      False  ...       False      False   \n",
            "4     False     False      False  ...       False      False   \n",
            "\n",
            "   Direction_Close Long  Direction_Close Short  Direction_Long > Short  \\\n",
            "0                 False                  False                   False   \n",
            "1                 False                  False                   False   \n",
            "2                 False                  False                   False   \n",
            "3                 False                  False                   False   \n",
            "4                 False                  False                   False   \n",
            "\n",
            "   Direction_Open Long  Direction_Open Short  Direction_Sell  \\\n",
            "0                False                 False           False   \n",
            "1                False                 False           False   \n",
            "2                False                 False           False   \n",
            "3                False                 False           False   \n",
            "4                False                 False           False   \n",
            "\n",
            "   Direction_Short > Long  Direction_Spot Dust Conversion  \n",
            "0                   False                           False  \n",
            "1                   False                           False  \n",
            "2                   False                           False  \n",
            "3                   False                           False  \n",
            "4                   False                           False  \n",
            "\n",
            "[5 rows x 180 columns]\n"
          ]
        }
      ]
    },
    {
      "cell_type": "code",
      "source": [
        "\n",
        "from sklearn.model_selection import train_test_split\n",
        "\n",
        "\n",
        "X_train, X_test, y_train, y_test = train_test_split(\n",
        "    X_encoded, y, test_size=0.20, random_state=42, stratify=y\n",
        ")\n",
        "\n",
        "\n",
        "\n",
        "print(\"Shape of training features (X_train):\", X_train.shape)\n",
        "print(\"Shape of testing features (X_test):\", X_test.shape)\n",
        "print(\"Shape of training target (y_train):\", y_train.shape)\n",
        "print(\"Shape of testing target (y_test):\", y_test.shape)"
      ],
      "metadata": {
        "colab": {
          "base_uri": "https://localhost:8080/"
        },
        "id": "5GmnCVvg-PNm",
        "outputId": "67e230f4-b13b-4c7d-84e5-c5f56b936868"
      },
      "execution_count": 10,
      "outputs": [
        {
          "output_type": "stream",
          "name": "stdout",
          "text": [
            "--- Data Splitting Complete ---\n",
            "Shape of training features (X_train): (28691, 180)\n",
            "Shape of testing features (X_test): (7173, 180)\n",
            "Shape of training target (y_train): (28691,)\n",
            "Shape of testing target (y_test): (7173,)\n"
          ]
        }
      ]
    },
    {
      "cell_type": "code",
      "source": [
        "\n",
        "from sklearn.linear_model import LogisticRegression\n",
        "from sklearn.tree import DecisionTreeClassifier\n",
        "from sklearn.ensemble import RandomForestClassifier, GradientBoostingClassifier\n",
        "from sklearn.svm import SVC\n",
        "from sklearn.neighbors import KNeighborsClassifier\n",
        "from xgboost import XGBClassifier\n",
        "\n",
        "from sklearn.metrics import accuracy_score, f1_score, classification_report\n",
        "import pandas as pd\n",
        "import time\n",
        "\n",
        "\n",
        "models = {\n",
        "    \"Logistic Regression\": LogisticRegression(max_iter=1000, n_jobs=-1),\n",
        "    \"Decision Tree\": DecisionTreeClassifier(random_state=42),\n",
        "    \"Random Forest\": RandomForestClassifier(random_state=42, n_jobs=-1),\n",
        "    \"Gradient Boosting\": GradientBoostingClassifier(random_state=42),\n",
        "    \"Support Vector Machine\": SVC(),\n",
        "    \"K-Nearest Neighbors\": KNeighborsClassifier(n_jobs=-1),\n",
        "    \"XGBoost\": XGBClassifier(random_state=42, use_label_encoder=False, eval_metric='logloss', n_jobs=-1)\n",
        "}\n",
        "\n",
        "results = []\n",
        "\n",
        "\n",
        "for name, model in models.items():\n",
        "    print(f\"--- Training {name}... ---\")\n",
        "    start_time = time.time()\n",
        "\n",
        "\n",
        "    model.fit(X_train, y_train)\n",
        "\n",
        "\n",
        "    y_pred = model.predict(X_test)\n",
        "\n",
        "    end_time = time.time()\n",
        "\n",
        "\n",
        "    accuracy = accuracy_score(y_test, y_pred)\n",
        "    f1 = f1_score(y_test, y_pred)\n",
        "\n",
        "\n",
        "    print(f\"\\n--- Evaluation Report for {name} ---\")\n",
        "    print(f\"Training Time: {(end_time - start_time):.2f} seconds\")\n",
        "    print(f\"Accuracy: {accuracy:.4f}\")\n",
        "    print(f\"F1-Score: {f1:.4f}\")\n",
        "    print(\"\\nClassification Report:\")\n",
        "    print(classification_report(y_test, y_pred))\n",
        "    print(\"=\"*60 + \"\\n\")\n",
        "\n",
        "\n",
        "    results.append({\n",
        "        \"Model\": name,\n",
        "        \"Accuracy\": accuracy,\n",
        "        \"F1-Score\": f1,\n",
        "        \"Time (s)\": end_time - start_time\n",
        "    })\n",
        "\n",
        "\n",
        "results_df = pd.DataFrame(results).sort_values(by='F1-Score', ascending=False).reset_index(drop=True)\n",
        "\n",
        "print(\"--- Final Model Comparison Summary ---\")\n",
        "print(results_df)"
      ],
      "metadata": {
        "colab": {
          "base_uri": "https://localhost:8080/"
        },
        "id": "aM5u0u79_qDA",
        "outputId": "b25bdceb-13a2-45e9-a310-84fed826a53e"
      },
      "execution_count": 11,
      "outputs": [
        {
          "output_type": "stream",
          "name": "stdout",
          "text": [
            "--- Training Logistic Regression... ---\n",
            "\n",
            "--- Evaluation Report for Logistic Regression ---\n",
            "Training Time: 13.33 seconds\n",
            "Accuracy: 0.9269\n",
            "F1-Score: 0.9211\n",
            "\n",
            "Classification Report:\n",
            "              precision    recall  f1-score   support\n",
            "\n",
            "           0       1.00      0.88      0.93      4099\n",
            "           1       0.86      1.00      0.92      3074\n",
            "\n",
            "    accuracy                           0.93      7173\n",
            "   macro avg       0.93      0.94      0.93      7173\n",
            "weighted avg       0.94      0.93      0.93      7173\n",
            "\n",
            "============================================================\n",
            "\n",
            "--- Training Decision Tree... ---\n",
            "\n",
            "--- Evaluation Report for Decision Tree ---\n",
            "Training Time: 0.26 seconds\n",
            "Accuracy: 0.9495\n",
            "F1-Score: 0.9411\n",
            "\n",
            "Classification Report:\n",
            "              precision    recall  f1-score   support\n",
            "\n",
            "           0       0.96      0.96      0.96      4099\n",
            "           1       0.94      0.94      0.94      3074\n",
            "\n",
            "    accuracy                           0.95      7173\n",
            "   macro avg       0.95      0.95      0.95      7173\n",
            "weighted avg       0.95      0.95      0.95      7173\n",
            "\n",
            "============================================================\n",
            "\n",
            "--- Training Random Forest... ---\n",
            "\n",
            "--- Evaluation Report for Random Forest ---\n",
            "Training Time: 3.14 seconds\n",
            "Accuracy: 0.9508\n",
            "F1-Score: 0.9428\n",
            "\n",
            "Classification Report:\n",
            "              precision    recall  f1-score   support\n",
            "\n",
            "           0       0.96      0.95      0.96      4099\n",
            "           1       0.94      0.95      0.94      3074\n",
            "\n",
            "    accuracy                           0.95      7173\n",
            "   macro avg       0.95      0.95      0.95      7173\n",
            "weighted avg       0.95      0.95      0.95      7173\n",
            "\n",
            "============================================================\n",
            "\n",
            "--- Training Gradient Boosting... ---\n",
            "\n",
            "--- Evaluation Report for Gradient Boosting ---\n",
            "Training Time: 9.39 seconds\n",
            "Accuracy: 0.9382\n",
            "F1-Score: 0.9320\n",
            "\n",
            "Classification Report:\n",
            "              precision    recall  f1-score   support\n",
            "\n",
            "           0       0.99      0.90      0.94      4099\n",
            "           1       0.88      0.99      0.93      3074\n",
            "\n",
            "    accuracy                           0.94      7173\n",
            "   macro avg       0.94      0.94      0.94      7173\n",
            "weighted avg       0.94      0.94      0.94      7173\n",
            "\n",
            "============================================================\n",
            "\n",
            "--- Training Support Vector Machine... ---\n",
            "\n",
            "--- Evaluation Report for Support Vector Machine ---\n",
            "Training Time: 217.23 seconds\n",
            "Accuracy: 0.5717\n",
            "F1-Score: 0.0071\n",
            "\n",
            "Classification Report:\n",
            "              precision    recall  f1-score   support\n",
            "\n",
            "           0       0.57      1.00      0.73      4099\n",
            "           1       0.55      0.00      0.01      3074\n",
            "\n",
            "    accuracy                           0.57      7173\n",
            "   macro avg       0.56      0.50      0.37      7173\n",
            "weighted avg       0.56      0.57      0.42      7173\n",
            "\n",
            "============================================================\n",
            "\n",
            "--- Training K-Nearest Neighbors... ---\n",
            "\n",
            "--- Evaluation Report for K-Nearest Neighbors ---\n",
            "Training Time: 3.65 seconds\n",
            "Accuracy: 0.7058\n",
            "F1-Score: 0.6436\n",
            "\n",
            "Classification Report:\n",
            "              precision    recall  f1-score   support\n",
            "\n",
            "           0       0.73      0.77      0.75      4099\n",
            "           1       0.67      0.62      0.64      3074\n",
            "\n",
            "    accuracy                           0.71      7173\n",
            "   macro avg       0.70      0.70      0.70      7173\n",
            "weighted avg       0.70      0.71      0.70      7173\n",
            "\n",
            "============================================================\n",
            "\n",
            "--- Training XGBoost... ---\n"
          ]
        },
        {
          "output_type": "stream",
          "name": "stderr",
          "text": [
            "/usr/local/lib/python3.11/dist-packages/xgboost/training.py:183: UserWarning: [18:11:01] WARNING: /workspace/src/learner.cc:738: \n",
            "Parameters: { \"use_label_encoder\" } are not used.\n",
            "\n",
            "  bst.update(dtrain, iteration=i, fobj=obj)\n"
          ]
        },
        {
          "output_type": "stream",
          "name": "stdout",
          "text": [
            "\n",
            "--- Evaluation Report for XGBoost ---\n",
            "Training Time: 3.55 seconds\n",
            "Accuracy: 0.9501\n",
            "F1-Score: 0.9446\n",
            "\n",
            "Classification Report:\n",
            "              precision    recall  f1-score   support\n",
            "\n",
            "           0       0.99      0.92      0.95      4099\n",
            "           1       0.90      0.99      0.94      3074\n",
            "\n",
            "    accuracy                           0.95      7173\n",
            "   macro avg       0.95      0.96      0.95      7173\n",
            "weighted avg       0.95      0.95      0.95      7173\n",
            "\n",
            "============================================================\n",
            "\n",
            "--- Final Model Comparison Summary ---\n",
            "                    Model  Accuracy  F1-Score    Time (s)\n",
            "0                 XGBoost  0.950091  0.944565    3.553575\n",
            "1           Random Forest  0.950788  0.942797    3.135879\n",
            "2           Decision Tree  0.949533  0.941138    0.264026\n",
            "3       Gradient Boosting  0.938241  0.932003    9.386914\n",
            "4     Logistic Regression  0.926948  0.921108   13.334961\n",
            "5     K-Nearest Neighbors  0.705841  0.643581    3.653442\n",
            "6  Support Vector Machine  0.571727  0.007111  217.234435\n"
          ]
        }
      ]
    },
    {
      "cell_type": "code",
      "source": [],
      "metadata": {
        "id": "swwScN3MUz6B"
      },
      "execution_count": null,
      "outputs": []
    },
    {
      "cell_type": "markdown",
      "source": [
        "**hypere prarameter tuning**"
      ],
      "metadata": {
        "id": "M7hFfMfhUyoM"
      }
    },
    {
      "cell_type": "markdown",
      "source": [],
      "metadata": {
        "id": "dcvLuMd3Ux-U"
      }
    },
    {
      "cell_type": "code",
      "source": [
        "from sklearn.model_selection import GridSearchCV\n",
        "import matplotlib.pyplot as plt\n",
        "import seaborn as sns\n",
        "\n",
        "\n",
        "param_grid = {\n",
        "    'n_estimators': [100, 200],\n",
        "    'max_depth': [3, 5, 7],\n",
        "    'learning_rate': [0.05, 0.1]\n",
        "}\n",
        "\n",
        "\n",
        "grid_search = GridSearchCV(\n",
        "    estimator=XGBClassifier(random_state=42, use_label_encoder=False, eval_metric='logloss'),\n",
        "    param_grid=param_grid,\n",
        "    scoring='f1',\n",
        "    cv=3,\n",
        "    n_jobs=-1\n",
        ")\n",
        "\n",
        "\n",
        "grid_search.fit(X_train, y_train)\n",
        "\n",
        "# Get the best model found by the grid search\n",
        "best_xgb_model = grid_search.best_estimator_\n",
        "\n",
        "print(\"\\n--- Tuning Complete ---\")\n",
        "print(f\"Best Parameters Found: {grid_search.best_params_}\")\n",
        "\n",
        "\n",
        "# Evaluate the Tuned Model ---\n",
        "print(\"\\n--- Evaluating the TUNED Model ---\")\n",
        "y_pred_tuned = best_xgb_model.predict(X_test)\n",
        "print(classification_report(y_test, y_pred_tuned))\n",
        "\n",
        "\n",
        "# Analyze Feature Importances ---\n",
        "print(\"\\n--- Analyzing Feature Importances ---\")\n",
        "importances = pd.DataFrame({\n",
        "    'Feature': X_encoded.columns,\n",
        "    'Importance': best_xgb_model.feature_importances_\n",
        "}).sort_values(by='Importance', ascending=False)\n",
        "\n",
        "\n",
        "print(importances.head(15))\n",
        "\n",
        "plt.figure(figsize=(12, 8))\n",
        "sns.barplot(x='Importance', y='Feature', data=importances.head(15))\n",
        "plt.title('Top 15 Feature Importances from Tuned XGBoost Model', fontsize=16)\n",
        "plt.show()"
      ],
      "metadata": {
        "colab": {
          "base_uri": "https://localhost:8080/",
          "height": 1000
        },
        "id": "RBZhAAf_A5nW",
        "outputId": "68a36dc0-1159-4a76-99c5-737af743e9d8"
      },
      "execution_count": 12,
      "outputs": [
        {
          "output_type": "stream",
          "name": "stdout",
          "text": [
            "--- Starting Hyperparameter Tuning for XGBoost... ---\n"
          ]
        },
        {
          "output_type": "stream",
          "name": "stderr",
          "text": [
            "/usr/local/lib/python3.11/dist-packages/xgboost/training.py:183: UserWarning: [18:20:22] WARNING: /workspace/src/learner.cc:738: \n",
            "Parameters: { \"use_label_encoder\" } are not used.\n",
            "\n",
            "  bst.update(dtrain, iteration=i, fobj=obj)\n"
          ]
        },
        {
          "output_type": "stream",
          "name": "stdout",
          "text": [
            "\n",
            "--- Tuning Complete ---\n",
            "Best Parameters Found: {'learning_rate': 0.1, 'max_depth': 7, 'n_estimators': 200}\n",
            "\n",
            "--- Evaluating the TUNED Model ---\n",
            "              precision    recall  f1-score   support\n",
            "\n",
            "           0       0.99      0.91      0.95      4099\n",
            "           1       0.90      0.99      0.94      3074\n",
            "\n",
            "    accuracy                           0.95      7173\n",
            "   macro avg       0.95      0.95      0.95      7173\n",
            "weighted avg       0.95      0.95      0.95      7173\n",
            "\n",
            "\n",
            "--- Analyzing Feature Importances ---\n",
            "                            Feature  Importance\n",
            "175             Direction_Open Long    0.349731\n",
            "176            Direction_Open Short    0.192990\n",
            "173           Direction_Close Short    0.180413\n",
            "171                       Side_SELL    0.054047\n",
            "78                         Coin_ETH    0.024083\n",
            "136                          Coin_S    0.021958\n",
            "21                          Coin_@4    0.011421\n",
            "154                      Coin_USUAL    0.007739\n",
            "0                             value    0.006567\n",
            "4                         Coin_@107    0.006435\n",
            "139                        Coin_SOL    0.006389\n",
            "148                       Coin_TNSR    0.005300\n",
            "179  Direction_Spot Dust Conversion    0.004873\n",
            "85                         Coin_FXS    0.004832\n",
            "169                      Coin_kPEPE    0.004820\n"
          ]
        },
        {
          "output_type": "display_data",
          "data": {
            "text/plain": [
              "<Figure size 1200x800 with 1 Axes>"
            ],
            "image/png": "[encoded data removed]"
          },
          "metadata": {}
        }
      ]
    },
    {
      "cell_type": "code",
      "source": [],
      "metadata": {
        "id": "O7pKGpqeDzL9"
      },
      "execution_count": null,
      "outputs": []
    }
  ]
}