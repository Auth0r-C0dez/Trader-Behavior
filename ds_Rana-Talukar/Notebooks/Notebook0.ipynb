{
  "nbformat": 4,
  "nbformat_minor": 0,
  "metadata": {
    "colab": {
      "provenance": []
    },
    "kernelspec": {
      "name": "python3",
      "display_name": "Python 3"
    },
    "language_info": {
      "name": "python"
    }
  },
  "cells": [
    {
      "cell_type": "code",
      "execution_count": 4,
      "metadata": {
        "id": "BLHxSEIVSfH1"
      },
      "outputs": [],
      "source": [
        "from google.colab import drive\n"
      ]
    },
    {
      "cell_type": "code",
      "source": [
        "drive.mount('/content/drive')"
      ],
      "metadata": {
        "colab": {
          "base_uri": "https://localhost:8080/"
        },
        "id": "_8QCIVmKSsio",
        "outputId": "915e0619-3186-4bb8-9b11-d613d8c44d55"
      },
      "execution_count": 5,
      "outputs": [
        {
          "output_type": "stream",
          "name": "stdout",
          "text": [
            "Mounted at /content/drive\n"
          ]
        }
      ]
    },
    {
      "cell_type": "code",
      "source": [
        "import matplotlib.pyplot as plt\n",
        "import numpy as np"
      ],
      "metadata": {
        "id": "K843J3-XTKkb"
      },
      "execution_count": 6,
      "outputs": []
    },
    {
      "cell_type": "code",
      "source": [
        "import pandas as pd"
      ],
      "metadata": {
        "id": "1wUdhfGFTIEx"
      },
      "execution_count": 7,
      "outputs": []
    },
    {
      "cell_type": "code",
      "source": [
        "\n",
        "\n",
        "trades = pd.read_csv(\"/content/drive/MyDrive/PrimeTrade/historical_data.csv\")\n",
        "sentiment = pd.read_csv(\"/content/drive/MyDrive/PrimeTrade/fear_greed_index.csv\")\n"
      ],
      "metadata": {
        "id": "TdNZkHcaSw0-"
      },
      "execution_count": 8,
      "outputs": []
    },
    {
      "cell_type": "code",
      "source": [
        "sentiment.head()"
      ],
      "metadata": {
        "colab": {
          "base_uri": "https://localhost:8080/",
          "height": 206
        },
        "id": "aWOphBg1T-ck",
        "outputId": "e3ca8931-8816-473e-9cd5-b48329faf44f"
      },
      "execution_count": 9,
      "outputs": [
        {
          "output_type": "execute_result",
          "data": {
            "text/plain": [
              "    timestamp  value classification        date\n",
              "0  1517463000     30           Fear  2018-02-01\n",
              "1  1517549400     15   Extreme Fear  2018-02-02\n",
              "2  1517635800     40           Fear  2018-02-03\n",
              "3  1517722200     24   Extreme Fear  2018-02-04\n",
              "4  1517808600     11   Extreme Fear  2018-02-05"
            ],
            "text/html": [
              "\n",
              "  <div id=\"df-2ebf4b98-c488-4132-abee-8b48fbd5dfda\" class=\"colab-df-container\">\n",
              "    <div>\n",
              "<style scoped>\n",
              "    .dataframe tbody tr th:only-of-type {\n",
              "        vertical-align: middle;\n",
              "    }\n",
              "\n",
              "    .dataframe tbody tr th {\n",
              "        vertical-align: top;\n",
              "    }\n",
              "\n",
              "    .dataframe thead th {\n",
              "        text-align: right;\n",
              "    }\n",
              "</style>\n",
              "<table border=\"1\" class=\"dataframe\">\n",
              "  <thead>\n",
              "    <tr style=\"text-align: right;\">\n",
              "      <th></th>\n",
              "      <th>timestamp</th>\n",
              "      <th>value</th>\n",
              "      <th>classification</th>\n",
              "      <th>date</th>\n",
              "    </tr>\n",
              "  </thead>\n",
              "  <tbody>\n",
              "    <tr>\n",
              "      <th>0</th>\n",
              "      <td>1517463000</td>\n",
              "      <td>30</td>\n",
              "      <td>Fear</td>\n",
              "      <td>2018-02-01</td>\n",
              "    </tr>\n",
              "    <tr>\n",
              "      <th>1</th>\n",
              "      <td>1517549400</td>\n",
              "      <td>15</td>\n",
              "      <td>Extreme Fear</td>\n",
              "      <td>2018-02-02</td>\n",
              "    </tr>\n",
              "    <tr>\n",
              "      <th>2</th>\n",
              "      <td>1517635800</td>\n",
              "      <td>40</td>\n",
              "      <td>Fear</td>\n",
              "      <td>2018-02-03</td>\n",
              "    </tr>\n",
              "    <tr>\n",
              "      <th>3</th>\n",
              "      <td>1517722200</td>\n",
              "      <td>24</td>\n",
              "      <td>Extreme Fear</td>\n",
              "      <td>2018-02-04</td>\n",
              "    </tr>\n",
              "    <tr>\n",
              "      <th>4</th>\n",
              "      <td>1517808600</td>\n",
              "      <td>11</td>\n",
              "      <td>Extreme Fear</td>\n",
              "      <td>2018-02-05</td>\n",
              "    </tr>\n",
              "  </tbody>\n",
              "</table>\n",
              "</div>\n",
              "    <div class=\"colab-df-buttons\">\n",
              "\n",
              "  <div class=\"colab-df-container\">\n",
              "    <button class=\"colab-df-convert\" onclick=\"convertToInteractive('df-2ebf4b98-c488-4132-abee-8b48fbd5dfda')\"\n",
              "            title=\"Convert this dataframe to an interactive table.\"\n",
              "            style=\"display:none;\">\n",
              "\n",
              "  <svg xmlns=\"http://www.w3.org/2000/svg\" height=\"24px\" viewBox=\"0 -960 960 960\">\n",
              "    <path d=\"M120-120v-720h720v720H120Zm60-500h600v-160H180v160Zm220 220h160v-160H400v160Zm0 220h160v-160H400v160ZM180-400h160v-160H180v160Zm440 0h160v-160H620v160ZM180-180h160v-160H180v160Zm440 0h160v-160H620v160Z\"/>\n",
              "  </svg>\n",
              "    </button>\n",
              "\n",
              "  <style>\n",
              "    .colab-df-container {\n",
              "      display:flex;\n",
              "      gap: 12px;\n",
              "    }\n",
              "\n",
              "    .colab-df-convert {\n",
              "      background-color: #E8F0FE;\n",
              "      border: none;\n",
              "      border-radius: 50%;\n",
              "      cursor: pointer;\n",
              "      display: none;\n",
              "      fill: #1967D2;\n",
              "      height: 32px;\n",
              "      padding: 0 0 0 0;\n",
              "      width: 32px;\n",
              "    }\n",
              "\n",
              "    .colab-df-convert:hover {\n",
              "      background-color: #E2EBFA;\n",
              "      box-shadow: 0px 1px 2px rgba(60, 64, 67, 0.3), 0px 1px 3px 1px rgba(60, 64, 67, 0.15);\n",
              "      fill: #174EA6;\n",
              "    }\n",
              "\n",
              "    .colab-df-buttons div {\n",
              "      margin-bottom: 4px;\n",
              "    }\n",
              "\n",
              "    [theme=dark] .colab-df-convert {\n",
              "      background-color: #3B4455;\n",
              "      fill: #D2E3FC;\n",
              "    }\n",
              "\n",
              "    [theme=dark] .colab-df-convert:hover {\n",
              "      background-color: #434B5C;\n",
              "      box-shadow: 0px 1px 3px 1px rgba(0, 0, 0, 0.15);\n",
              "      filter: drop-shadow(0px 1px 2px rgba(0, 0, 0, 0.3));\n",
              "      fill: #FFFFFF;\n",
              "    }\n",
              "  </style>\n",
              "\n",
              "    <script>\n",
              "      const buttonEl =\n",
              "        document.querySelector('#df-2ebf4b98-c488-4132-abee-8b48fbd5dfda button.colab-df-convert');\n",
              "      buttonEl.style.display =\n",
              "        google.colab.kernel.accessAllowed ? 'block' : 'none';\n",
              "\n",
              "      async function convertToInteractive(key) {\n",
              "        const element = document.querySelector('#df-2ebf4b98-c488-4132-abee-8b48fbd5dfda');\n",
              "        const dataTable =\n",
              "          await google.colab.kernel.invokeFunction('convertToInteractive',\n",
              "                                                    [key], {});\n",
              "        if (!dataTable) return;\n",
              "\n",
              "        const docLinkHtml = 'Like what you see? Visit the ' +\n",
              "          '<a target=\"_blank\" href=https://colab.research.google.com/notebooks/data_table.ipynb>data table notebook</a>'\n",
              "          + ' to learn more about interactive tables.';\n",
              "        element.innerHTML = '';\n",
              "        dataTable['output_type'] = 'display_data';\n",
              "        await google.colab.output.renderOutput(dataTable, element);\n",
              "        const docLink = document.createElement('div');\n",
              "        docLink.innerHTML = docLinkHtml;\n",
              "        element.appendChild(docLink);\n",
              "      }\n",
              "    </script>\n",
              "  </div>\n",
              "\n",
              "\n",
              "    <div id=\"df-b6eead51-1c83-4ee5-9962-d085a7981c80\">\n",
              "      <button class=\"colab-df-quickchart\" onclick=\"quickchart('df-b6eead51-1c83-4ee5-9962-d085a7981c80')\"\n",
              "                title=\"Suggest charts\"\n",
              "                style=\"display:none;\">\n",
              "\n",
              "<svg xmlns=\"http://www.w3.org/2000/svg\" height=\"24px\"viewBox=\"0 0 24 24\"\n",
              "     width=\"24px\">\n",
              "    <g>\n",
              "        <path d=\"M19 3H5c-1.1 0-2 .9-2 2v14c0 1.1.9 2 2 2h14c1.1 0 2-.9 2-2V5c0-1.1-.9-2-2-2zM9 17H7v-7h2v7zm4 0h-2V7h2v10zm4 0h-2v-4h2v4z\"/>\n",
              "    </g>\n",
              "</svg>\n",
              "      </button>\n",
              "\n",
              "<style>\n",
              "  .colab-df-quickchart {\n",
              "      --bg-color: #E8F0FE;\n",
              "      --fill-color: #1967D2;\n",
              "      --hover-bg-color: #E2EBFA;\n",
              "      --hover-fill-color: #174EA6;\n",
              "      --disabled-fill-color: #AAA;\n",
              "      --disabled-bg-color: #DDD;\n",
              "  }\n",
              "\n",
              "  [theme=dark] .colab-df-quickchart {\n",
              "      --bg-color: #3B4455;\n",
              "      --fill-color: #D2E3FC;\n",
              "      --hover-bg-color: #434B5C;\n",
              "      --hover-fill-color: #FFFFFF;\n",
              "      --disabled-bg-color: #3B4455;\n",
              "      --disabled-fill-color: #666;\n",
              "  }\n",
              "\n",
              "  .colab-df-quickchart {\n",
              "    background-color: var(--bg-color);\n",
              "    border: none;\n",
              "    border-radius: 50%;\n",
              "    cursor: pointer;\n",
              "    display: none;\n",
              "    fill: var(--fill-color);\n",
              "    height: 32px;\n",
              "    padding: 0;\n",
              "    width: 32px;\n",
              "  }\n",
              "\n",
              "  .colab-df-quickchart:hover {\n",
              "    background-color: var(--hover-bg-color);\n",
              "    box-shadow: 0 1px 2px rgba(60, 64, 67, 0.3), 0 1px 3px 1px rgba(60, 64, 67, 0.15);\n",
              "    fill: var(--button-hover-fill-color);\n",
              "  }\n",
              "\n",
              "  .colab-df-quickchart-complete:disabled,\n",
              "  .colab-df-quickchart-complete:disabled:hover {\n",
              "    background-color: var(--disabled-bg-color);\n",
              "    fill: var(--disabled-fill-color);\n",
              "    box-shadow: none;\n",
              "  }\n",
              "\n",
              "  .colab-df-spinner {\n",
              "    border: 2px solid var(--fill-color);\n",
              "    border-color: transparent;\n",
              "    border-bottom-color: var(--fill-color);\n",
              "    animation:\n",
              "      spin 1s steps(1) infinite;\n",
              "  }\n",
              "\n",
              "  @keyframes spin {\n",
              "    0% {\n",
              "      border-color: transparent;\n",
              "      border-bottom-color: var(--fill-color);\n",
              "      border-left-color: var(--fill-color);\n",
              "    }\n",
              "    20% {\n",
              "      border-color: transparent;\n",
              "      border-left-color: var(--fill-color);\n",
              "      border-top-color: var(--fill-color);\n",
              "    }\n",
              "    30% {\n",
              "      border-color: transparent;\n",
              "      border-left-color: var(--fill-color);\n",
              "      border-top-color: var(--fill-color);\n",
              "      border-right-color: var(--fill-color);\n",
              "    }\n",
              "    40% {\n",
              "      border-color: transparent;\n",
              "      border-right-color: var(--fill-color);\n",
              "      border-top-color: var(--fill-color);\n",
              "    }\n",
              "    60% {\n",
              "      border-color: transparent;\n",
              "      border-right-color: var(--fill-color);\n",
              "    }\n",
              "    80% {\n",
              "      border-color: transparent;\n",
              "      border-right-color: var(--fill-color);\n",
              "      border-bottom-color: var(--fill-color);\n",
              "    }\n",
              "    90% {\n",
              "      border-color: transparent;\n",
              "      border-bottom-color: var(--fill-color);\n",
              "    }\n",
              "  }\n",
              "</style>\n",
              "\n",
              "      <script>\n",
              "        async function quickchart(key) {\n",
              "          const quickchartButtonEl =\n",
              "            document.querySelector('#' + key + ' button');\n",
              "          quickchartButtonEl.disabled = true;  // To prevent multiple clicks.\n",
              "          quickchartButtonEl.classList.add('colab-df-spinner');\n",
              "          try {\n",
              "            const charts = await google.colab.kernel.invokeFunction(\n",
              "                'suggestCharts', [key], {});\n",
              "          } catch (error) {\n",
              "            console.error('Error during call to suggestCharts:', error);\n",
              "          }\n",
              "          quickchartButtonEl.classList.remove('colab-df-spinner');\n",
              "          quickchartButtonEl.classList.add('colab-df-quickchart-complete');\n",
              "        }\n",
              "        (() => {\n",
              "          let quickchartButtonEl =\n",
              "            document.querySelector('#df-b6eead51-1c83-4ee5-9962-d085a7981c80 button');\n",
              "          quickchartButtonEl.style.display =\n",
              "            google.colab.kernel.accessAllowed ? 'block' : 'none';\n",
              "        })();\n",
              "      </script>\n",
              "    </div>\n",
              "\n",
              "    </div>\n",
              "  </div>\n"
            ],
            "application/vnd.google.colaboratory.intrinsic+json": {
              "type": "dataframe",
              "variable_name": "sentiment",
              "summary": "{\n  \"name\": \"sentiment\",\n  \"rows\": 2644,\n  \"fields\": [\n    {\n      \"column\": \"timestamp\",\n      \"properties\": {\n        \"dtype\": \"number\",\n        \"std\": 65979674,\n        \"min\": 1517463000,\n        \"max\": 1746163800,\n        \"num_unique_values\": 2644,\n        \"samples\": [\n          1594531800,\n          1613626200,\n          1630819800\n        ],\n        \"semantic_type\": \"\",\n        \"description\": \"\"\n      }\n    },\n    {\n      \"column\": \"value\",\n      \"properties\": {\n        \"dtype\": \"number\",\n        \"std\": 21,\n        \"min\": 5,\n        \"max\": 95,\n        \"num_unique_values\": 90,\n        \"samples\": [\n          61,\n          47,\n          65\n        ],\n        \"semantic_type\": \"\",\n        \"description\": \"\"\n      }\n    },\n    {\n      \"column\": \"classification\",\n      \"properties\": {\n        \"dtype\": \"category\",\n        \"num_unique_values\": 5,\n        \"samples\": [\n          \"Extreme Fear\",\n          \"Extreme Greed\",\n          \"Neutral\"\n        ],\n        \"semantic_type\": \"\",\n        \"description\": \"\"\n      }\n    },\n    {\n      \"column\": \"date\",\n      \"properties\": {\n        \"dtype\": \"object\",\n        \"num_unique_values\": 2644,\n        \"samples\": [\n          \"2020-07-12\",\n          \"2021-02-18\",\n          \"2021-09-05\"\n        ],\n        \"semantic_type\": \"\",\n        \"description\": \"\"\n      }\n    }\n  ]\n}"
            }
          },
          "metadata": {},
          "execution_count": 9
        }
      ]
    },
    {
      "cell_type": "code",
      "source": [
        "trades.head()"
      ],
      "metadata": {
        "colab": {
          "base_uri": "https://localhost:8080/",
          "height": 417
        },
        "id": "RRceApZFTg1e",
        "outputId": "2c29da6a-5136-47fa-f0e6-201ae2204e11"
      },
      "execution_count": 10,
      "outputs": [
        {
          "output_type": "execute_result",
          "data": {
            "text/plain": [
              "                                      Account  Coin  Execution Price  \\\n",
              "0  0xae5eacaf9c6b9111fd53034a602c192a04e082ed  @107           7.9769   \n",
              "1  0xae5eacaf9c6b9111fd53034a602c192a04e082ed  @107           7.9800   \n",
              "2  0xae5eacaf9c6b9111fd53034a602c192a04e082ed  @107           7.9855   \n",
              "3  0xae5eacaf9c6b9111fd53034a602c192a04e082ed  @107           7.9874   \n",
              "4  0xae5eacaf9c6b9111fd53034a602c192a04e082ed  @107           7.9894   \n",
              "\n",
              "   Size Tokens  Size USD Side     Timestamp IST  Start Position Direction  \\\n",
              "0       986.87   7872.16  BUY  02-12-2024 22:50        0.000000       Buy   \n",
              "1        16.00    127.68  BUY  02-12-2024 22:50      986.524596       Buy   \n",
              "2       144.09   1150.63  BUY  02-12-2024 22:50     1002.518996       Buy   \n",
              "3       142.98   1142.04  BUY  02-12-2024 22:50     1146.558564       Buy   \n",
              "4         8.73     69.75  BUY  02-12-2024 22:50     1289.488521       Buy   \n",
              "\n",
              "   Closed PnL                                   Transaction Hash     Order ID  \\\n",
              "0         0.0  0xec09451986a1874e3a980418412fcd0201f500c95bac...  52017706630   \n",
              "1         0.0  0xec09451986a1874e3a980418412fcd0201f500c95bac...  52017706630   \n",
              "2         0.0  0xec09451986a1874e3a980418412fcd0201f500c95bac...  52017706630   \n",
              "3         0.0  0xec09451986a1874e3a980418412fcd0201f500c95bac...  52017706630   \n",
              "4         0.0  0xec09451986a1874e3a980418412fcd0201f500c95bac...  52017706630   \n",
              "\n",
              "   Crossed       Fee      Trade ID     Timestamp  \n",
              "0     True  0.345404  8.950000e+14  1.730000e+12  \n",
              "1     True  0.005600  4.430000e+14  1.730000e+12  \n",
              "2     True  0.050431  6.600000e+14  1.730000e+12  \n",
              "3     True  0.050043  1.080000e+15  1.730000e+12  \n",
              "4     True  0.003055  1.050000e+15  1.730000e+12  "
            ],
            "text/html": [
              "\n",
              "  <div id=\"df-9c7c0957-a5d8-4bbc-84fc-05b197fd3749\" class=\"colab-df-container\">\n",
              "    <div>\n",
              "<style scoped>\n",
              "    .dataframe tbody tr th:only-of-type {\n",
              "        vertical-align: middle;\n",
              "    }\n",
              "\n",
              "    .dataframe tbody tr th {\n",
              "        vertical-align: top;\n",
              "    }\n",
              "\n",
              "    .dataframe thead th {\n",
              "        text-align: right;\n",
              "    }\n",
              "</style>\n",
              "<table border=\"1\" class=\"dataframe\">\n",
              "  <thead>\n",
              "    <tr style=\"text-align: right;\">\n",
              "      <th></th>\n",
              "      <th>Account</th>\n",
              "      <th>Coin</th>\n",
              "      <th>Execution Price</th>\n",
              "      <th>Size Tokens</th>\n",
              "      <th>Size USD</th>\n",
              "      <th>Side</th>\n",
              "      <th>Timestamp IST</th>\n",
              "      <th>Start Position</th>\n",
              "      <th>Direction</th>\n",
              "      <th>Closed PnL</th>\n",
              "      <th>Transaction Hash</th>\n",
              "      <th>Order ID</th>\n",
              "      <th>Crossed</th>\n",
              "      <th>Fee</th>\n",
              "      <th>Trade ID</th>\n",
              "      <th>Timestamp</th>\n",
              "    </tr>\n",
              "  </thead>\n",
              "  <tbody>\n",
              "    <tr>\n",
              "      <th>0</th>\n",
              "      <td>0xae5eacaf9c6b9111fd53034a602c192a04e082ed</td>\n",
              "      <td>@107</td>\n",
              "      <td>7.9769</td>\n",
              "      <td>986.87</td>\n",
              "      <td>7872.16</td>\n",
              "      <td>BUY</td>\n",
              "      <td>02-12-2024 22:50</td>\n",
              "      <td>0.000000</td>\n",
              "      <td>Buy</td>\n",
              "      <td>0.0</td>\n",
              "      <td>0xec09451986a1874e3a980418412fcd0201f500c95bac...</td>\n",
              "      <td>52017706630</td>\n",
              "      <td>True</td>\n",
              "      <td>0.345404</td>\n",
              "      <td>8.950000e+14</td>\n",
              "      <td>1.730000e+12</td>\n",
              "    </tr>\n",
              "    <tr>\n",
              "      <th>1</th>\n",
              "      <td>0xae5eacaf9c6b9111fd53034a602c192a04e082ed</td>\n",
              "      <td>@107</td>\n",
              "      <td>7.9800</td>\n",
              "      <td>16.00</td>\n",
              "      <td>127.68</td>\n",
              "      <td>BUY</td>\n",
              "      <td>02-12-2024 22:50</td>\n",
              "      <td>986.524596</td>\n",
              "      <td>Buy</td>\n",
              "      <td>0.0</td>\n",
              "      <td>0xec09451986a1874e3a980418412fcd0201f500c95bac...</td>\n",
              "      <td>52017706630</td>\n",
              "      <td>True</td>\n",
              "      <td>0.005600</td>\n",
              "      <td>4.430000e+14</td>\n",
              "      <td>1.730000e+12</td>\n",
              "    </tr>\n",
              "    <tr>\n",
              "      <th>2</th>\n",
              "      <td>0xae5eacaf9c6b9111fd53034a602c192a04e082ed</td>\n",
              "      <td>@107</td>\n",
              "      <td>7.9855</td>\n",
              "      <td>144.09</td>\n",
              "      <td>1150.63</td>\n",
              "      <td>BUY</td>\n",
              "      <td>02-12-2024 22:50</td>\n",
              "      <td>1002.518996</td>\n",
              "      <td>Buy</td>\n",
              "      <td>0.0</td>\n",
              "      <td>0xec09451986a1874e3a980418412fcd0201f500c95bac...</td>\n",
              "      <td>52017706630</td>\n",
              "      <td>True</td>\n",
              "      <td>0.050431</td>\n",
              "      <td>6.600000e+14</td>\n",
              "      <td>1.730000e+12</td>\n",
              "    </tr>\n",
              "    <tr>\n",
              "      <th>3</th>\n",
              "      <td>0xae5eacaf9c6b9111fd53034a602c192a04e082ed</td>\n",
              "      <td>@107</td>\n",
              "      <td>7.9874</td>\n",
              "      <td>142.98</td>\n",
              "      <td>1142.04</td>\n",
              "      <td>BUY</td>\n",
              "      <td>02-12-2024 22:50</td>\n",
              "      <td>1146.558564</td>\n",
              "      <td>Buy</td>\n",
              "      <td>0.0</td>\n",
              "      <td>0xec09451986a1874e3a980418412fcd0201f500c95bac...</td>\n",
              "      <td>52017706630</td>\n",
              "      <td>True</td>\n",
              "      <td>0.050043</td>\n",
              "      <td>1.080000e+15</td>\n",
              "      <td>1.730000e+12</td>\n",
              "    </tr>\n",
              "    <tr>\n",
              "      <th>4</th>\n",
              "      <td>0xae5eacaf9c6b9111fd53034a602c192a04e082ed</td>\n",
              "      <td>@107</td>\n",
              "      <td>7.9894</td>\n",
              "      <td>8.73</td>\n",
              "      <td>69.75</td>\n",
              "      <td>BUY</td>\n",
              "      <td>02-12-2024 22:50</td>\n",
              "      <td>1289.488521</td>\n",
              "      <td>Buy</td>\n",
              "      <td>0.0</td>\n",
              "      <td>0xec09451986a1874e3a980418412fcd0201f500c95bac...</td>\n",
              "      <td>52017706630</td>\n",
              "      <td>True</td>\n",
              "      <td>0.003055</td>\n",
              "      <td>1.050000e+15</td>\n",
              "      <td>1.730000e+12</td>\n",
              "    </tr>\n",
              "  </tbody>\n",
              "</table>\n",
              "</div>\n",
              "    <div class=\"colab-df-buttons\">\n",
              "\n",
              "  <div class=\"colab-df-container\">\n",
              "    <button class=\"colab-df-convert\" onclick=\"convertToInteractive('df-9c7c0957-a5d8-4bbc-84fc-05b197fd3749')\"\n",
              "            title=\"Convert this dataframe to an interactive table.\"\n",
              "            style=\"display:none;\">\n",
              "\n",
              "  <svg xmlns=\"http://www.w3.org/2000/svg\" height=\"24px\" viewBox=\"0 -960 960 960\">\n",
              "    <path d=\"M120-120v-720h720v720H120Zm60-500h600v-160H180v160Zm220 220h160v-160H400v160Zm0 220h160v-160H400v160ZM180-400h160v-160H180v160Zm440 0h160v-160H620v160ZM180-180h160v-160H180v160Zm440 0h160v-160H620v160Z\"/>\n",
              "  </svg>\n",
              "    </button>\n",
              "\n",
              "  <style>\n",
              "    .colab-df-container {\n",
              "      display:flex;\n",
              "      gap: 12px;\n",
              "    }\n",
              "\n",
              "    .colab-df-convert {\n",
              "      background-color: #E8F0FE;\n",
              "      border: none;\n",
              "      border-radius: 50%;\n",
              "      cursor: pointer;\n",
              "      display: none;\n",
              "      fill: #1967D2;\n",
              "      height: 32px;\n",
              "      padding: 0 0 0 0;\n",
              "      width: 32px;\n",
              "    }\n",
              "\n",
              "    .colab-df-convert:hover {\n",
              "      background-color: #E2EBFA;\n",
              "      box-shadow: 0px 1px 2px rgba(60, 64, 67, 0.3), 0px 1px 3px 1px rgba(60, 64, 67, 0.15);\n",
              "      fill: #174EA6;\n",
              "    }\n",
              "\n",
              "    .colab-df-buttons div {\n",
              "      margin-bottom: 4px;\n",
              "    }\n",
              "\n",
              "    [theme=dark] .colab-df-convert {\n",
              "      background-color: #3B4455;\n",
              "      fill: #D2E3FC;\n",
              "    }\n",
              "\n",
              "    [theme=dark] .colab-df-convert:hover {\n",
              "      background-color: #434B5C;\n",
              "      box-shadow: 0px 1px 3px 1px rgba(0, 0, 0, 0.15);\n",
              "      filter: drop-shadow(0px 1px 2px rgba(0, 0, 0, 0.3));\n",
              "      fill: #FFFFFF;\n",
              "    }\n",
              "  </style>\n",
              "\n",
              "    <script>\n",
              "      const buttonEl =\n",
              "        document.querySelector('#df-9c7c0957-a5d8-4bbc-84fc-05b197fd3749 button.colab-df-convert');\n",
              "      buttonEl.style.display =\n",
              "        google.colab.kernel.accessAllowed ? 'block' : 'none';\n",
              "\n",
              "      async function convertToInteractive(key) {\n",
              "        const element = document.querySelector('#df-9c7c0957-a5d8-4bbc-84fc-05b197fd3749');\n",
              "        const dataTable =\n",
              "          await google.colab.kernel.invokeFunction('convertToInteractive',\n",
              "                                                    [key], {});\n",
              "        if (!dataTable) return;\n",
              "\n",
              "        const docLinkHtml = 'Like what you see? Visit the ' +\n",
              "          '<a target=\"_blank\" href=https://colab.research.google.com/notebooks/data_table.ipynb>data table notebook</a>'\n",
              "          + ' to learn more about interactive tables.';\n",
              "        element.innerHTML = '';\n",
              "        dataTable['output_type'] = 'display_data';\n",
              "        await google.colab.output.renderOutput(dataTable, element);\n",
              "        const docLink = document.createElement('div');\n",
              "        docLink.innerHTML = docLinkHtml;\n",
              "        element.appendChild(docLink);\n",
              "      }\n",
              "    </script>\n",
              "  </div>\n",
              "\n",
              "\n",
              "    <div id=\"df-f3ba56d0-642d-4b67-b217-20ceb02edb5a\">\n",
              "      <button class=\"colab-df-quickchart\" onclick=\"quickchart('df-f3ba56d0-642d-4b67-b217-20ceb02edb5a')\"\n",
              "                title=\"Suggest charts\"\n",
              "                style=\"display:none;\">\n",
              "\n",
              "<svg xmlns=\"http://www.w3.org/2000/svg\" height=\"24px\"viewBox=\"0 0 24 24\"\n",
              "     width=\"24px\">\n",
              "    <g>\n",
              "        <path d=\"M19 3H5c-1.1 0-2 .9-2 2v14c0 1.1.9 2 2 2h14c1.1 0 2-.9 2-2V5c0-1.1-.9-2-2-2zM9 17H7v-7h2v7zm4 0h-2V7h2v10zm4 0h-2v-4h2v4z\"/>\n",
              "    </g>\n",
              "</svg>\n",
              "      </button>\n",
              "\n",
              "<style>\n",
              "  .colab-df-quickchart {\n",
              "      --bg-color: #E8F0FE;\n",
              "      --fill-color: #1967D2;\n",
              "      --hover-bg-color: #E2EBFA;\n",
              "      --hover-fill-color: #174EA6;\n",
              "      --disabled-fill-color: #AAA;\n",
              "      --disabled-bg-color: #DDD;\n",
              "  }\n",
              "\n",
              "  [theme=dark] .colab-df-quickchart {\n",
              "      --bg-color: #3B4455;\n",
              "      --fill-color: #D2E3FC;\n",
              "      --hover-bg-color: #434B5C;\n",
              "      --hover-fill-color: #FFFFFF;\n",
              "      --disabled-bg-color: #3B4455;\n",
              "      --disabled-fill-color: #666;\n",
              "  }\n",
              "\n",
              "  .colab-df-quickchart {\n",
              "    background-color: var(--bg-color);\n",
              "    border: none;\n",
              "    border-radius: 50%;\n",
              "    cursor: pointer;\n",
              "    display: none;\n",
              "    fill: var(--fill-color);\n",
              "    height: 32px;\n",
              "    padding: 0;\n",
              "    width: 32px;\n",
              "  }\n",
              "\n",
              "  .colab-df-quickchart:hover {\n",
              "    background-color: var(--hover-bg-color);\n",
              "    box-shadow: 0 1px 2px rgba(60, 64, 67, 0.3), 0 1px 3px 1px rgba(60, 64, 67, 0.15);\n",
              "    fill: var(--button-hover-fill-color);\n",
              "  }\n",
              "\n",
              "  .colab-df-quickchart-complete:disabled,\n",
              "  .colab-df-quickchart-complete:disabled:hover {\n",
              "    background-color: var(--disabled-bg-color);\n",
              "    fill: var(--disabled-fill-color);\n",
              "    box-shadow: none;\n",
              "  }\n",
              "\n",
              "  .colab-df-spinner {\n",
              "    border: 2px solid var(--fill-color);\n",
              "    border-color: transparent;\n",
              "    border-bottom-color: var(--fill-color);\n",
              "    animation:\n",
              "      spin 1s steps(1) infinite;\n",
              "  }\n",
              "\n",
              "  @keyframes spin {\n",
              "    0% {\n",
              "      border-color: transparent;\n",
              "      border-bottom-color: var(--fill-color);\n",
              "      border-left-color: var(--fill-color);\n",
              "    }\n",
              "    20% {\n",
              "      border-color: transparent;\n",
              "      border-left-color: var(--fill-color);\n",
              "      border-top-color: var(--fill-color);\n",
              "    }\n",
              "    30% {\n",
              "      border-color: transparent;\n",
              "      border-left-color: var(--fill-color);\n",
              "      border-top-color: var(--fill-color);\n",
              "      border-right-color: var(--fill-color);\n",
              "    }\n",
              "    40% {\n",
              "      border-color: transparent;\n",
              "      border-right-color: var(--fill-color);\n",
              "      border-top-color: var(--fill-color);\n",
              "    }\n",
              "    60% {\n",
              "      border-color: transparent;\n",
              "      border-right-color: var(--fill-color);\n",
              "    }\n",
              "    80% {\n",
              "      border-color: transparent;\n",
              "      border-right-color: var(--fill-color);\n",
              "      border-bottom-color: var(--fill-color);\n",
              "    }\n",
              "    90% {\n",
              "      border-color: transparent;\n",
              "      border-bottom-color: var(--fill-color);\n",
              "    }\n",
              "  }\n",
              "</style>\n",
              "\n",
              "      <script>\n",
              "        async function quickchart(key) {\n",
              "          const quickchartButtonEl =\n",
              "            document.querySelector('#' + key + ' button');\n",
              "          quickchartButtonEl.disabled = true;  // To prevent multiple clicks.\n",
              "          quickchartButtonEl.classList.add('colab-df-spinner');\n",
              "          try {\n",
              "            const charts = await google.colab.kernel.invokeFunction(\n",
              "                'suggestCharts', [key], {});\n",
              "          } catch (error) {\n",
              "            console.error('Error during call to suggestCharts:', error);\n",
              "          }\n",
              "          quickchartButtonEl.classList.remove('colab-df-spinner');\n",
              "          quickchartButtonEl.classList.add('colab-df-quickchart-complete');\n",
              "        }\n",
              "        (() => {\n",
              "          let quickchartButtonEl =\n",
              "            document.querySelector('#df-f3ba56d0-642d-4b67-b217-20ceb02edb5a button');\n",
              "          quickchartButtonEl.style.display =\n",
              "            google.colab.kernel.accessAllowed ? 'block' : 'none';\n",
              "        })();\n",
              "      </script>\n",
              "    </div>\n",
              "\n",
              "    </div>\n",
              "  </div>\n"
            ],
            "application/vnd.google.colaboratory.intrinsic+json": {
              "type": "dataframe",
              "variable_name": "trades"
            }
          },
          "metadata": {},
          "execution_count": 10
        }
      ]
    },
    {
      "cell_type": "code",
      "source": [
        "sentiment.info()"
      ],
      "metadata": {
        "colab": {
          "base_uri": "https://localhost:8080/"
        },
        "id": "GWuVOw-BT7ji",
        "outputId": "024ce861-ea01-4bae-809d-ed00adcf9bec"
      },
      "execution_count": 11,
      "outputs": [
        {
          "output_type": "stream",
          "name": "stdout",
          "text": [
            "<class 'pandas.core.frame.DataFrame'>\n",
            "RangeIndex: 2644 entries, 0 to 2643\n",
            "Data columns (total 4 columns):\n",
            " #   Column          Non-Null Count  Dtype \n",
            "---  ------          --------------  ----- \n",
            " 0   timestamp       2644 non-null   int64 \n",
            " 1   value           2644 non-null   int64 \n",
            " 2   classification  2644 non-null   object\n",
            " 3   date            2644 non-null   object\n",
            "dtypes: int64(2), object(2)\n",
            "memory usage: 82.8+ KB\n"
          ]
        }
      ]
    },
    {
      "cell_type": "code",
      "source": [
        "trades.info()"
      ],
      "metadata": {
        "colab": {
          "base_uri": "https://localhost:8080/"
        },
        "id": "7wONNN_wUESk",
        "outputId": "b6812309-694e-44a2-d349-1d82a8354ca8"
      },
      "execution_count": 12,
      "outputs": [
        {
          "output_type": "stream",
          "name": "stdout",
          "text": [
            "<class 'pandas.core.frame.DataFrame'>\n",
            "RangeIndex: 211224 entries, 0 to 211223\n",
            "Data columns (total 16 columns):\n",
            " #   Column            Non-Null Count   Dtype  \n",
            "---  ------            --------------   -----  \n",
            " 0   Account           211224 non-null  object \n",
            " 1   Coin              211224 non-null  object \n",
            " 2   Execution Price   211224 non-null  float64\n",
            " 3   Size Tokens       211224 non-null  float64\n",
            " 4   Size USD          211224 non-null  float64\n",
            " 5   Side              211224 non-null  object \n",
            " 6   Timestamp IST     211224 non-null  object \n",
            " 7   Start Position    211224 non-null  float64\n",
            " 8   Direction         211224 non-null  object \n",
            " 9   Closed PnL        211224 non-null  float64\n",
            " 10  Transaction Hash  211224 non-null  object \n",
            " 11  Order ID          211224 non-null  int64  \n",
            " 12  Crossed           211224 non-null  bool   \n",
            " 13  Fee               211224 non-null  float64\n",
            " 14  Trade ID          211224 non-null  float64\n",
            " 15  Timestamp         211224 non-null  float64\n",
            "dtypes: bool(1), float64(8), int64(1), object(6)\n",
            "memory usage: 24.4+ MB\n"
          ]
        }
      ]
    },
    {
      "cell_type": "code",
      "source": [
        "df_sentiment = sentiment"
      ],
      "metadata": {
        "id": "zbZX5Au9VxvJ"
      },
      "execution_count": 13,
      "outputs": []
    },
    {
      "cell_type": "code",
      "source": [
        "import seaborn as sns"
      ],
      "metadata": {
        "id": "QL2gEj5cbtV7"
      },
      "execution_count": 14,
      "outputs": []
    },
    {
      "cell_type": "code",
      "source": [
        "from datetime import datetime, timedelta\n",
        "sns.set(style='whitegrid')"
      ],
      "metadata": {
        "id": "hgsMh-DBbr2j"
      },
      "execution_count": 15,
      "outputs": []
    },
    {
      "cell_type": "code",
      "source": [
        "import os, math, json"
      ],
      "metadata": {
        "id": "6NtaU8dIbydg"
      },
      "execution_count": 16,
      "outputs": []
    },
    {
      "cell_type": "code",
      "source": [
        "\n",
        "df_sentiment['date'] = pd.to_datetime(df_sentiment['date'], errors='coerce').dt.date\n",
        "\n",
        "\n",
        "\n",
        "df_sentiment = df_sentiment[['date', 'classification', 'value']].drop_duplicates(subset='date').reset_index(drop=True)\n"
      ],
      "metadata": {
        "id": "NK58fQ_jeNld"
      },
      "execution_count": 17,
      "outputs": []
    },
    {
      "cell_type": "code",
      "source": [
        "df_trader = trades"
      ],
      "metadata": {
        "id": "4vAdVlldfc7k"
      },
      "execution_count": 18,
      "outputs": []
    },
    {
      "cell_type": "code",
      "source": [
        "df_trader = df_trader.copy()"
      ],
      "metadata": {
        "id": "kbrxAR0Ufhfx"
      },
      "execution_count": 19,
      "outputs": []
    },
    {
      "cell_type": "code",
      "source": [
        "\n",
        "\n",
        "\n",
        "\n",
        "df_trader['date'] = pd.to_datetime(df_trader['Timestamp IST'], errors='coerce').dt.date\n",
        "\n",
        "\n",
        "df_trader = df_trader[['date', 'Account', 'Coin', 'Execution Price', 'Size Tokens',\n",
        "                       'Size USD', 'Side', 'Start Position', 'Direction',\n",
        "                       'Closed PnL', 'Fee']]\n",
        "\n"
      ],
      "metadata": {
        "id": "-g06QYXfebxZ"
      },
      "execution_count": 20,
      "outputs": []
    },
    {
      "cell_type": "code",
      "source": [
        "df_merged = pd.merge(\n",
        "    df_trader,\n",
        "    df_sentiment,\n",
        "    on='date',\n",
        "    how='inner'\n",
        ")\n"
      ],
      "metadata": {
        "id": "R8JSDXrpfrjt"
      },
      "execution_count": 21,
      "outputs": []
    },
    {
      "cell_type": "code",
      "source": [
        "df_merged.info()"
      ],
      "metadata": {
        "colab": {
          "base_uri": "https://localhost:8080/"
        },
        "id": "nYnZVnLffyH8",
        "outputId": "9b25ae11-ca2e-4f0d-f79e-c46cf6ce5980"
      },
      "execution_count": 22,
      "outputs": [
        {
          "output_type": "stream",
          "name": "stdout",
          "text": [
            "<class 'pandas.core.frame.DataFrame'>\n",
            "RangeIndex: 35864 entries, 0 to 35863\n",
            "Data columns (total 13 columns):\n",
            " #   Column           Non-Null Count  Dtype  \n",
            "---  ------           --------------  -----  \n",
            " 0   date             35864 non-null  object \n",
            " 1   Account          35864 non-null  object \n",
            " 2   Coin             35864 non-null  object \n",
            " 3   Execution Price  35864 non-null  float64\n",
            " 4   Size Tokens      35864 non-null  float64\n",
            " 5   Size USD         35864 non-null  float64\n",
            " 6   Side             35864 non-null  object \n",
            " 7   Start Position   35864 non-null  float64\n",
            " 8   Direction        35864 non-null  object \n",
            " 9   Closed PnL       35864 non-null  float64\n",
            " 10  Fee              35864 non-null  float64\n",
            " 11  classification   35864 non-null  object \n",
            " 12  value            35864 non-null  int64  \n",
            "dtypes: float64(6), int64(1), object(6)\n",
            "memory usage: 3.6+ MB\n"
          ]
        }
      ]
    },
    {
      "cell_type": "code",
      "source": [
        "df_merged_missing= pd.merge(\n",
        "    df_trader,\n",
        "    df_sentiment,\n",
        "    on='date',\n",
        "    how='left'\n",
        ")"
      ],
      "metadata": {
        "id": "wGOBF-hygAzZ"
      },
      "execution_count": 23,
      "outputs": []
    },
    {
      "cell_type": "code",
      "source": [
        "df_merged_missing.info()"
      ],
      "metadata": {
        "colab": {
          "base_uri": "https://localhost:8080/"
        },
        "id": "ZOmCT031jzXO",
        "outputId": "064c5a91-067a-40ae-a21a-ab29428df42e"
      },
      "execution_count": 24,
      "outputs": [
        {
          "output_type": "stream",
          "name": "stdout",
          "text": [
            "<class 'pandas.core.frame.DataFrame'>\n",
            "RangeIndex: 211224 entries, 0 to 211223\n",
            "Data columns (total 13 columns):\n",
            " #   Column           Non-Null Count   Dtype  \n",
            "---  ------           --------------   -----  \n",
            " 0   date             79225 non-null   object \n",
            " 1   Account          211224 non-null  object \n",
            " 2   Coin             211224 non-null  object \n",
            " 3   Execution Price  211224 non-null  float64\n",
            " 4   Size Tokens      211224 non-null  float64\n",
            " 5   Size USD         211224 non-null  float64\n",
            " 6   Side             211224 non-null  object \n",
            " 7   Start Position   211224 non-null  float64\n",
            " 8   Direction        211224 non-null  object \n",
            " 9   Closed PnL       211224 non-null  float64\n",
            " 10  Fee              211224 non-null  float64\n",
            " 11  classification   35864 non-null   object \n",
            " 12  value            35864 non-null   float64\n",
            "dtypes: float64(7), object(6)\n",
            "memory usage: 20.9+ MB\n"
          ]
        }
      ]
    },
    {
      "cell_type": "code",
      "source": [
        "\n",
        "avg_trades_per_date = df_merged.groupby('date').size().mean()\n",
        "print(\"Average trades per sentiment date:\", avg_trades_per_date)\n",
        "\n",
        "\n",
        "dates_in_trades = set(df_trader['date'])\n",
        "dates_in_sentiment = set(df_sentiment['date'])\n",
        "missing_sentiment_dates = dates_in_trades - dates_in_sentiment\n",
        "\n",
        "print(\"Number of trading dates with no sentiment data:\", len(missing_sentiment_dates))\n",
        "\n"
      ],
      "metadata": {
        "colab": {
          "base_uri": "https://localhost:8080/"
        },
        "id": "fFz1Ndwfj3Sy",
        "outputId": "c94bf91e-e374-44b4-e587-966a1e1106f7"
      },
      "execution_count": 25,
      "outputs": [
        {
          "output_type": "stream",
          "name": "stdout",
          "text": [
            "Average trades per sentiment date: 226.9873417721519\n",
            "Number of trading dates with no sentiment data: 31\n"
          ]
        }
      ]
    },
    {
      "cell_type": "code",
      "source": [
        "df_merged.to_csv(\"final_dataset.csv\", index=False)\n"
      ],
      "metadata": {
        "id": "UMRdNvoXk16p"
      },
      "execution_count": 26,
      "outputs": []
    },
    {
      "cell_type": "code",
      "source": [],
      "metadata": {
        "id": "v_6ZJSqV3bKr"
      },
      "execution_count": 26,
      "outputs": []
    }
  ]
}